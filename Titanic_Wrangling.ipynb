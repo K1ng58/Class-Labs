{
  "cells": [
    {
      "cell_type": "markdown",
      "metadata": {
        "id": "QWpPySbzYEIV"
      },
      "source": [
        "# Titanic Wrangling\n",
        "\n",
        "In this practice activity you'll continue to work with the titanic dataset in ways that flex what you've learned about both data wrangling and data visualization."
      ]
    },
    {
      "cell_type": "code",
      "execution_count": 2,
      "metadata": {
        "id": "Nr6w8bVCf_NM"
      },
      "outputs": [],
      "source": [
        "import pandas as pd\n",
        "\n",
        "data_dir = \"https://dlsun.github.io/pods/data/\"\n",
        "df_titanic = pd.read_csv(data_dir + \"titanic.csv\")"
      ]
    },
    {
      "cell_type": "markdown",
      "metadata": {
        "id": "9UgZD6VFYa96"
      },
      "source": [
        "## 1. Filter the data to include passengers only. Calculate the joint distribution (cross-tab) between a passenger's class and where they embarked."
      ]
    },
    {
      "cell_type": "code",
      "execution_count": 9,
      "metadata": {
        "id": "TBthOzDLgBif"
      },
      "outputs": [
        {
          "name": "stdout",
          "output_type": "stream",
          "text": [
            "embarked  B    C    Q    S\n",
            "class                     \n",
            "1st       3  143    3  175\n",
            "2nd       6   26    7  245\n",
            "3rd       0  102  113  494\n",
            "embarked  B    C    Q    S\n",
            "class                     \n",
            "1st       3  143    3  175\n",
            "2nd       6   26    7  245\n",
            "3rd       0  102  113  494\n"
          ]
        }
      ],
      "source": [
        "df_titanic[\"type\"] = df_titanic[\"class\"].map({\n",
        "    \"1st\": \"passenger\",\n",
        "    \"2nd\": \"passenger\",\n",
        "    \"3rd\": \"passenger\",\n",
        "    \"victualling crew\": \"crew\",\n",
        "    \"engineering crew\": \"crew\",\n",
        "    \"deck crew\": \"crew\"\n",
        "})\n",
        "\n",
        "pass_df = df_titanic[df_titanic[\"type\"] == \"passenger\"]\n",
        "joint_distribution = pd.crosstab(pass_df[\"class\"], pass_df[\"embarked\"])\n",
        "print(joint_distribution)"
      ]
    },
    {
      "cell_type": "markdown",
      "metadata": {
        "id": "3CRaJLSyYm4d"
      },
      "source": [
        "## 2. Using the joint distribution that calculated above, calculate the following:\n",
        "\n",
        "* the conditional distribution of their class given where they embarked\n",
        "* the conditional distribution of where they embarked given their class\n",
        "\n",
        "Use the conditional distributions that you calculate to answer the following quesitons:\n",
        "\n",
        "* What proportion of 3rd class passengers embarked at Southampton?\n",
        "* What proportion of Southampton passengers were in 3rd class?"
      ]
    },
    {
      "cell_type": "code",
      "execution_count": 15,
      "metadata": {
        "id": "TfTGidLIv1k0"
      },
      "outputs": [
        {
          "name": "stdout",
          "output_type": "stream",
          "text": [
            "embarked         B         C         Q         S\n",
            "class                                           \n",
            "1st       0.333333  0.527675  0.024390  0.191466\n",
            "2nd       0.666667  0.095941  0.056911  0.268053\n",
            "3rd       0.000000  0.376384  0.918699  0.540481\n",
            "class          1st       2nd       3rd\n",
            "embarked                              \n",
            "B         0.009259  0.021127  0.000000\n",
            "C         0.441358  0.091549  0.143865\n",
            "Q         0.009259  0.024648  0.159379\n",
            "S         0.540123  0.862676  0.696756\n",
            "embarked         B         C         Q         S\n",
            "class                                           \n",
            "1st       0.333333  0.527675  0.024390  0.191466\n",
            "2nd       0.666667  0.095941  0.056911  0.268053\n",
            "3rd       0.000000  0.376384  0.918699  0.540481\n",
            "class          1st       2nd       3rd\n",
            "embarked                              \n",
            "B         0.009259  0.021127  0.000000\n",
            "C         0.441358  0.091549  0.143865\n",
            "Q         0.009259  0.024648  0.159379\n",
            "S         0.540123  0.862676  0.696756\n"
          ]
        }
      ],
      "source": [
        "classcon = pd.crosstab(pass_df[\"class\"], pass_df[\"embarked\"], normalize='columns')\n",
        "embarkedcon= pd.crosstab(pass_df[\"embarked\"], pass_df[\"class\"], normalize='columns')\n",
        "print(classcon)\n",
        "print(embarkedcon)\n",
        "print(\"Approximatly 70% of 3rd class passengers embarked at Southhampton\")\n",
        "print(\"Approximatly 54% of Southhampton passengers were in 3rd class\")"
      ]
    },
    {
      "cell_type": "markdown",
      "metadata": {
        "id": "pGUQeeh1ZRfz"
      },
      "source": [
        "## 3. Make a visualization showing the distribution of a passenger's class, given where they embarked.\n",
        "\n",
        "Discuss the pros and cons of using this visualization versus the distributions you calculated before, to answer the previous questions."
      ]
    },
    {
      "cell_type": "code",
      "execution_count": 20,
      "metadata": {
        "id": "PZ18WKJWA-xZ"
      },
      "outputs": [
        {
          "data": {
            "text/plain": [
              "<Axes: xlabel='embarked'>"
            ]
          },
          "execution_count": null,
          "metadata": {},
          "output_type": "execute_result"
        },
        {
          "data": {
            "image/png": "[encoded data removed]",
            "text/plain": [
              "<Figure size 640x480 with 1 Axes>"
            ]
          },
          "metadata": {},
          "output_type": "display_data"
        }
      ],
      "source": [
        "embarkedcon.plot(kind='bar')"
      ]
    }
  ],
  "metadata": {
    "colab": {
      "provenance": []
    },
    "kernelspec": {
      "display_name": "Python 3",
      "name": "python3"
    },
    "language_info": {
      "name": "python"
    }
  },
  "nbformat": 4,
  "nbformat_minor": 0
}
